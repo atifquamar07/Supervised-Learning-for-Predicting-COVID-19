{
 "cells": [
  {
   "cell_type": "code",
   "execution_count": 91,
   "metadata": {},
   "outputs": [],
   "source": [
    "import pandas as pd\n",
    "from sklearn.model_selection import train_test_split\n",
    "from sklearn.preprocessing import StandardScaler\n",
    "from sklearn.decomposition import PCA\n",
    "from sklearn.impute import SimpleImputer\n",
    "from sklearn.feature_selection import SelectKBest, f_classif\n",
    "from sklearn.ensemble import RandomForestClassifier\n",
    "from sklearn.metrics import accuracy_score, precision_score, recall_score, f1_score, classification_report\n",
    "import matplotlib.pyplot as plt\n",
    "from sklearn.manifold import TSNE"
   ]
  },
  {
   "cell_type": "code",
   "execution_count": 92,
   "metadata": {},
   "outputs": [],
   "source": [
    "# data = pd.read_csv('training_dataset/raw_dataset.csv')\n",
    "# data = pd.read_csv('training_dataset/raw_scores_pvallog.csv')\n",
    "# data = pd.read_csv('training_dataset/ionocyte_raw_dataset.csv')\n",
    "data = pd.read_csv('training_dataset/ionocyte_scores_pvallog.csv')"
   ]
  },
  {
   "cell_type": "code",
   "execution_count": 93,
   "metadata": {},
   "outputs": [
    {
     "name": "stdout",
     "output_type": "stream",
     "text": [
      "Total number of features before selection: 2105\n"
     ]
    }
   ],
   "source": [
    "# Prepare the feature matrix and target vector\n",
    "# X = data.drop(['NAME', 'disease_ontology_label', 'group'], axis=1)\n",
    "data['disease_ontology_label'] = (data['disease_ontology_label'] == 'COVID-19').astype(int)\n",
    "X = data.drop(['NAME', 'disease_ontology_label'], axis=1)\n",
    "y = data['disease_ontology_label']\n",
    "\n",
    "# Display the number of features before feature selection\n",
    "print(f\"Total number of features before selection: {X.shape[1]}\")"
   ]
  },
  {
   "cell_type": "code",
   "execution_count": 94,
   "metadata": {},
   "outputs": [],
   "source": [
    "# Downsampling to balance classes\n",
    "# g = data.groupby('disease_ontology_label')\n",
    "# data_balanced = g.apply(lambda x: x.sample(g.size().min()).reset_index(drop=True))\n",
    "\n",
    "# # Update X and y after downsampling\n",
    "# X = data_balanced.drop(['NAME', 'disease_ontology_label'], axis=1)\n",
    "# y = data_balanced['disease_ontology_label']\n",
    "# X = X.dropna()\n",
    "# y = y[X.index]\n",
    "\n",
    "# Display new class sizes\n",
    "# print(\"Class sizes after balancing:\")\n",
    "# print(y.value_counts())"
   ]
  },
  {
   "cell_type": "code",
   "execution_count": 95,
   "metadata": {},
   "outputs": [
    {
     "name": "stderr",
     "output_type": "stream",
     "text": [
      "c:\\Users\\atif7\\AppData\\Local\\Programs\\Python\\Python311\\Lib\\site-packages\\sklearn\\feature_selection\\_univariate_selection.py:112: UserWarning: Features [ 322  864 1038 1568 1765 1766 1767 1768 1772 1775 1776 1777 1778 1779\n",
      " 1780 1781 1782 1785 1786 1788 1789 1790 1791 1792 1796 1798 1800 1801\n",
      " 1804 1805 1806 1807 1810 1812 1813 1815 1816 1817 1818 1819 1822 1823\n",
      " 1824 1826 1828 1832 1833 1835 1836 1837 1838 1841 1842 1843 1844 1849\n",
      " 1851 1852 1853 1856 1857 1860 1861 1863 1868 1869 1870 1876 1877 1878\n",
      " 1879 1880 1881 1882 1883 1884 1885 1888 1889 1890 1891 1892 1894 1895\n",
      " 1896 1898 1901 1903 1905 1906 1907 1909 1910 1911 1912 1913 1914 1915\n",
      " 1916 1918 1919 1920 1921 1922 1923 1924 1927 1929 1930 1931 1933 1934\n",
      " 1937 1940 1942 1943 1944 1948 1951 1953 1956 1959 1962 1963 1966 1968\n",
      " 1969 1972 1973 1978 1980 1982 1983 1984 1985 1986 1990 1991 1994 1996\n",
      " 1997 1999 2000 2001 2003 2005 2006 2011 2012 2013 2014 2015 2017 2019\n",
      " 2022 2023 2026 2028 2029 2030 2032 2034 2036 2039 2040 2043 2044 2045\n",
      " 2046 2048 2050 2053 2054 2055 2056 2059 2062 2063 2065 2066 2068 2073\n",
      " 2078 2081 2086 2088 2092 2093 2094 2096 2098 2099 2101 2103 2104] are constant.\n",
      "  warnings.warn(\"Features %s are constant.\" % constant_features_idx, UserWarning)\n",
      "c:\\Users\\atif7\\AppData\\Local\\Programs\\Python\\Python311\\Lib\\site-packages\\sklearn\\feature_selection\\_univariate_selection.py:113: RuntimeWarning: invalid value encountered in divide\n",
      "  f = msb / msw\n"
     ]
    }
   ],
   "source": [
    "# Split the dataset into training and testing sets\n",
    "X_train, X_test, y_train, y_test = train_test_split(X, y, test_size=0.2, random_state=42)\n",
    "# Impute missing values\n",
    "# imputer = SimpleImputer(strategy='mean')\n",
    "# X_train = imputer.fit_transform(X_train)\n",
    "# X_test = imputer.transform(X_test)\n",
    "\n",
    "\n",
    "# Scale the features\n",
    "scaler = StandardScaler()\n",
    "X_train = scaler.fit_transform(X_train)\n",
    "X_test = scaler.transform(X_test)\n",
    "\n",
    "# kbest = 60 for pval0 and kbest = 20 for plvallog ionocyte\n",
    "# Feature selection using SelectKBest with f_classif\n",
    "selector = SelectKBest(score_func=f_classif, k=200)  # Select top 100 features\n",
    "X_train = selector.fit_transform(X_train, y_train)\n",
    "X_test = selector.transform(X_test)\n",
    "\n",
    "# # Dimensionality reduction with PCA\n",
    "# pca = PCA(n_components=0.8)  # Retain 95% of variance\n",
    "# X_train = pca.fit_transform(X_train)\n",
    "# X_test = pca.transform(X_test)\n",
    "\n",
    "# Display the number of features after PCA\n",
    "# print(f\"Total number of features after PCA: {X_train.shape[1]}\")"
   ]
  },
  {
   "cell_type": "code",
   "execution_count": 96,
   "metadata": {},
   "outputs": [],
   "source": [
    "# # Applying t-SNE to reduce dimensionality for visualization\n",
    "# tsne = TSNE(n_components=2, random_state=42)\n",
    "# X_train_tsne = tsne.fit_transform(X_train)\n",
    "\n",
    "# # Visualize the results of t-SNE\n",
    "# plt.figure(figsize=(8, 6))\n",
    "# plt.scatter(X_train_tsne[:, 0], X_train_tsne[:, 1], c=y_train, cmap='viridis', alpha=0.5)\n",
    "# plt.colorbar()\n",
    "# plt.title('t-SNE visualization of training data')\n",
    "# plt.xlabel('t-SNE Feature 1')\n",
    "# plt.ylabel('t-SNE Feature 2')\n",
    "# plt.show()"
   ]
  },
  {
   "cell_type": "code",
   "execution_count": 97,
   "metadata": {},
   "outputs": [
    {
     "name": "stdout",
     "output_type": "stream",
     "text": [
      "--------------------------------------------------\n",
      "Random Forest Classifier Results\n",
      "--------------------------------------------------\n",
      "Accuracy: 0.7777777777777778\n",
      "Precision: 0.7603264490339774\n",
      "Recall: 0.7480952380952381\n",
      "F1 Score: 0.7530844155844156\n",
      "              precision    recall  f1-score   support\n",
      "\n",
      "           0       0.71      0.64      0.67        42\n",
      "           1       0.81      0.85      0.83        75\n",
      "\n",
      "    accuracy                           0.78       117\n",
      "   macro avg       0.76      0.75      0.75       117\n",
      "weighted avg       0.77      0.78      0.78       117\n",
      "\n"
     ]
    }
   ],
   "source": [
    "# Train the Random Forest classifier\n",
    "rf_classifier = RandomForestClassifier(n_estimators=100, random_state=42, max_depth = 20)\n",
    "rf_classifier.fit(X_train, y_train)\n",
    "\n",
    "# Predict on the test set\n",
    "y_pred = rf_classifier.predict(X_test)\n",
    "\n",
    "# Evaluate the model\n",
    "accuracy = accuracy_score(y_test, y_pred)\n",
    "precision = precision_score(y_test, y_pred, average='macro')\n",
    "recall = recall_score(y_test, y_pred, average='macro')\n",
    "f1 = f1_score(y_test, y_pred, average='macro')\n",
    "\n",
    "print(\"--------------------------------------------------\")\n",
    "print(\"Random Forest Classifier Results\")\n",
    "print(\"--------------------------------------------------\")\n",
    "print(f\"Accuracy: {accuracy}\")\n",
    "print(f\"Precision: {precision}\")\n",
    "print(f\"Recall: {recall}\")\n",
    "print(f\"F1 Score: {f1}\")\n",
    "\n",
    "print(classification_report(y_test, y_pred))"
   ]
  }
 ],
 "metadata": {
  "kernelspec": {
   "display_name": "Python 3",
   "language": "python",
   "name": "python3"
  },
  "language_info": {
   "codemirror_mode": {
    "name": "ipython",
    "version": 3
   },
   "file_extension": ".py",
   "mimetype": "text/x-python",
   "name": "python",
   "nbconvert_exporter": "python",
   "pygments_lexer": "ipython3",
   "version": "3.11.5"
  }
 },
 "nbformat": 4,
 "nbformat_minor": 2
}
