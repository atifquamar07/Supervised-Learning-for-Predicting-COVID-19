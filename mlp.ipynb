{
 "cells": [
  {
   "cell_type": "code",
   "execution_count": 48,
   "metadata": {},
   "outputs": [],
   "source": [
    "import pandas as pd\n",
    "from sklearn.model_selection import train_test_split\n",
    "from sklearn.preprocessing import StandardScaler\n",
    "from sklearn.impute import SimpleImputer\n",
    "from sklearn.feature_selection import SelectKBest, f_classif\n",
    "import tensorflow as tf\n",
    "from tensorflow.keras.models import Sequential\n",
    "from tensorflow.keras.layers import Dense, Dropout"
   ]
  },
  {
   "cell_type": "code",
   "execution_count": 49,
   "metadata": {},
   "outputs": [],
   "source": [
    "# data = pd.read_csv('training_dataset/raw_dataset.csv')\n",
    "# data = pd.read_csv('training_dataset/raw_scores_pvallog.csv')\n",
    "# data = pd.read_csv('training_dataset/ionocyte_raw_dataset.csv')\n",
    "data = pd.read_csv('training_dataset/ionocyte_scores_pvallog.csv')"
   ]
  },
  {
   "cell_type": "code",
   "execution_count": 50,
   "metadata": {},
   "outputs": [],
   "source": [
    "# data = pd.read_csv('ionocyte_raw_dataset.csv')\n",
    "data['disease_ontology_label'] = (data['disease_ontology_label'] == 'COVID-19').astype(int)\n",
    "X = data.drop(['NAME', 'disease_ontology_label'], axis=1)\n",
    "y = data['disease_ontology_label']\n",
    "\n",
    "# print(\"Class sizes:\")\n",
    "# print(y.value_counts())"
   ]
  },
  {
   "cell_type": "code",
   "execution_count": 51,
   "metadata": {},
   "outputs": [
    {
     "name": "stdout",
     "output_type": "stream",
     "text": [
      "Total number of features after selection: 50\n",
      "Epoch 1/40\n"
     ]
    },
    {
     "name": "stderr",
     "output_type": "stream",
     "text": [
      "c:\\Users\\atif7\\AppData\\Local\\Programs\\Python\\Python311\\Lib\\site-packages\\sklearn\\feature_selection\\_univariate_selection.py:112: UserWarning: Features [ 322  864 1038 1568 1765 1766 1767 1768 1772 1775 1776 1777 1778 1779\n",
      " 1780 1781 1782 1785 1786 1788 1789 1790 1791 1792 1796 1798 1800 1801\n",
      " 1804 1805 1806 1807 1810 1812 1813 1815 1816 1817 1818 1819 1822 1823\n",
      " 1824 1826 1828 1832 1833 1835 1836 1837 1838 1841 1842 1843 1844 1849\n",
      " 1851 1852 1853 1856 1857 1860 1861 1863 1868 1869 1870 1876 1877 1878\n",
      " 1879 1880 1881 1882 1883 1884 1885 1888 1889 1890 1891 1892 1894 1895\n",
      " 1896 1898 1901 1903 1905 1906 1907 1909 1910 1911 1912 1913 1914 1915\n",
      " 1916 1918 1919 1920 1921 1922 1923 1924 1927 1929 1930 1931 1933 1934\n",
      " 1937 1940 1942 1943 1944 1948 1951 1953 1956 1959 1962 1963 1966 1968\n",
      " 1969 1972 1973 1978 1980 1982 1983 1984 1985 1986 1990 1991 1994 1996\n",
      " 1997 1999 2000 2001 2003 2005 2006 2011 2012 2013 2014 2015 2017 2019\n",
      " 2022 2023 2026 2028 2029 2030 2032 2034 2036 2039 2040 2043 2044 2045\n",
      " 2046 2048 2050 2053 2054 2055 2056 2059 2062 2063 2065 2066 2068 2073\n",
      " 2078 2081 2086 2088 2092 2093 2094 2096 2098 2099 2101 2103 2104] are constant.\n",
      "  warnings.warn(\"Features %s are constant.\" % constant_features_idx, UserWarning)\n",
      "c:\\Users\\atif7\\AppData\\Local\\Programs\\Python\\Python311\\Lib\\site-packages\\sklearn\\feature_selection\\_univariate_selection.py:113: RuntimeWarning: invalid value encountered in divide\n",
      "  f = msb / msw\n"
     ]
    },
    {
     "name": "stdout",
     "output_type": "stream",
     "text": [
      "38/38 [==============================] - 2s 9ms/step - loss: 0.6148 - accuracy: 0.6496 - val_loss: 0.4814 - val_accuracy: 0.7849\n",
      "Epoch 2/40\n",
      "38/38 [==============================] - 0s 4ms/step - loss: 0.4727 - accuracy: 0.7736 - val_loss: 0.4466 - val_accuracy: 0.8172\n",
      "Epoch 3/40\n",
      "38/38 [==============================] - 0s 4ms/step - loss: 0.4389 - accuracy: 0.7871 - val_loss: 0.4582 - val_accuracy: 0.8065\n",
      "Epoch 4/40\n",
      "38/38 [==============================] - 0s 3ms/step - loss: 0.4168 - accuracy: 0.8113 - val_loss: 0.4522 - val_accuracy: 0.7957\n",
      "Epoch 5/40\n",
      "38/38 [==============================] - 0s 4ms/step - loss: 0.4054 - accuracy: 0.8275 - val_loss: 0.4374 - val_accuracy: 0.8172\n",
      "Epoch 6/40\n",
      "38/38 [==============================] - 0s 3ms/step - loss: 0.3909 - accuracy: 0.8032 - val_loss: 0.4439 - val_accuracy: 0.8172\n",
      "Epoch 7/40\n",
      "38/38 [==============================] - 0s 3ms/step - loss: 0.3298 - accuracy: 0.8464 - val_loss: 0.4473 - val_accuracy: 0.7957\n",
      "Epoch 8/40\n",
      "38/38 [==============================] - 0s 3ms/step - loss: 0.3399 - accuracy: 0.8544 - val_loss: 0.4624 - val_accuracy: 0.8065\n",
      "Epoch 9/40\n",
      "38/38 [==============================] - 0s 3ms/step - loss: 0.3417 - accuracy: 0.8410 - val_loss: 0.4555 - val_accuracy: 0.7957\n",
      "Epoch 10/40\n",
      "38/38 [==============================] - 0s 3ms/step - loss: 0.3041 - accuracy: 0.8652 - val_loss: 0.4550 - val_accuracy: 0.7957\n",
      "Epoch 11/40\n",
      "38/38 [==============================] - 0s 3ms/step - loss: 0.2970 - accuracy: 0.8814 - val_loss: 0.4763 - val_accuracy: 0.7849\n",
      "Epoch 12/40\n",
      "38/38 [==============================] - 0s 3ms/step - loss: 0.2788 - accuracy: 0.8814 - val_loss: 0.5021 - val_accuracy: 0.7957\n",
      "Epoch 13/40\n",
      "38/38 [==============================] - 0s 3ms/step - loss: 0.2604 - accuracy: 0.8895 - val_loss: 0.4887 - val_accuracy: 0.7742\n",
      "Epoch 14/40\n",
      "38/38 [==============================] - 0s 4ms/step - loss: 0.2410 - accuracy: 0.9003 - val_loss: 0.5055 - val_accuracy: 0.7957\n",
      "Epoch 15/40\n",
      "38/38 [==============================] - 0s 4ms/step - loss: 0.2218 - accuracy: 0.9137 - val_loss: 0.4936 - val_accuracy: 0.7634\n",
      "Epoch 16/40\n",
      "38/38 [==============================] - 0s 4ms/step - loss: 0.2149 - accuracy: 0.9137 - val_loss: 0.5461 - val_accuracy: 0.7957\n",
      "Epoch 17/40\n",
      "38/38 [==============================] - 0s 3ms/step - loss: 0.2271 - accuracy: 0.9111 - val_loss: 0.5759 - val_accuracy: 0.7312\n",
      "Epoch 18/40\n",
      "38/38 [==============================] - 0s 3ms/step - loss: 0.1874 - accuracy: 0.9326 - val_loss: 0.6057 - val_accuracy: 0.7634\n",
      "Epoch 19/40\n",
      "38/38 [==============================] - 0s 4ms/step - loss: 0.1958 - accuracy: 0.9218 - val_loss: 0.7043 - val_accuracy: 0.7527\n",
      "Epoch 20/40\n",
      "38/38 [==============================] - 0s 4ms/step - loss: 0.2055 - accuracy: 0.9191 - val_loss: 0.6689 - val_accuracy: 0.7527\n",
      "Epoch 21/40\n",
      "38/38 [==============================] - 0s 3ms/step - loss: 0.1804 - accuracy: 0.9218 - val_loss: 0.7211 - val_accuracy: 0.7527\n",
      "Epoch 22/40\n",
      "38/38 [==============================] - 0s 3ms/step - loss: 0.1837 - accuracy: 0.9218 - val_loss: 0.7056 - val_accuracy: 0.7849\n",
      "Epoch 23/40\n",
      "38/38 [==============================] - 0s 4ms/step - loss: 0.1920 - accuracy: 0.9245 - val_loss: 0.6803 - val_accuracy: 0.7527\n",
      "Epoch 24/40\n",
      "38/38 [==============================] - 0s 3ms/step - loss: 0.1626 - accuracy: 0.9272 - val_loss: 0.6977 - val_accuracy: 0.7527\n",
      "Epoch 25/40\n",
      "38/38 [==============================] - 0s 3ms/step - loss: 0.1544 - accuracy: 0.9245 - val_loss: 0.7787 - val_accuracy: 0.7634\n",
      "Epoch 26/40\n",
      "38/38 [==============================] - 0s 3ms/step - loss: 0.1589 - accuracy: 0.9299 - val_loss: 0.6905 - val_accuracy: 0.7957\n",
      "Epoch 27/40\n",
      "38/38 [==============================] - 0s 3ms/step - loss: 0.1232 - accuracy: 0.9461 - val_loss: 0.8087 - val_accuracy: 0.7419\n",
      "Epoch 28/40\n",
      "38/38 [==============================] - 0s 3ms/step - loss: 0.1838 - accuracy: 0.9218 - val_loss: 0.7502 - val_accuracy: 0.7312\n",
      "Epoch 29/40\n",
      "38/38 [==============================] - 0s 3ms/step - loss: 0.1228 - accuracy: 0.9488 - val_loss: 0.8362 - val_accuracy: 0.7204\n",
      "Epoch 30/40\n",
      "38/38 [==============================] - 0s 6ms/step - loss: 0.1073 - accuracy: 0.9461 - val_loss: 0.8780 - val_accuracy: 0.7419\n",
      "Epoch 31/40\n",
      "38/38 [==============================] - 0s 5ms/step - loss: 0.1202 - accuracy: 0.9434 - val_loss: 0.8273 - val_accuracy: 0.7312\n",
      "Epoch 32/40\n",
      "38/38 [==============================] - 0s 3ms/step - loss: 0.1163 - accuracy: 0.9542 - val_loss: 0.8593 - val_accuracy: 0.7312\n",
      "Epoch 33/40\n",
      "38/38 [==============================] - 0s 3ms/step - loss: 0.1100 - accuracy: 0.9434 - val_loss: 0.9058 - val_accuracy: 0.7527\n",
      "Epoch 34/40\n",
      "38/38 [==============================] - 0s 3ms/step - loss: 0.0999 - accuracy: 0.9650 - val_loss: 0.8420 - val_accuracy: 0.7419\n",
      "Epoch 35/40\n",
      "38/38 [==============================] - 0s 3ms/step - loss: 0.0994 - accuracy: 0.9704 - val_loss: 0.8224 - val_accuracy: 0.7634\n",
      "Epoch 36/40\n",
      "38/38 [==============================] - 0s 3ms/step - loss: 0.0979 - accuracy: 0.9677 - val_loss: 1.1267 - val_accuracy: 0.7527\n",
      "Epoch 37/40\n",
      "38/38 [==============================] - 0s 3ms/step - loss: 0.0940 - accuracy: 0.9677 - val_loss: 1.0486 - val_accuracy: 0.7312\n",
      "Epoch 38/40\n",
      "38/38 [==============================] - 0s 4ms/step - loss: 0.1171 - accuracy: 0.9515 - val_loss: 1.0744 - val_accuracy: 0.7204\n",
      "Epoch 39/40\n",
      "38/38 [==============================] - 0s 3ms/step - loss: 0.0885 - accuracy: 0.9650 - val_loss: 1.0980 - val_accuracy: 0.7312\n",
      "Epoch 40/40\n",
      "38/38 [==============================] - 0s 3ms/step - loss: 0.1374 - accuracy: 0.9488 - val_loss: 0.9823 - val_accuracy: 0.7634\n"
     ]
    }
   ],
   "source": [
    "# Split the dataset into training and testing sets\n",
    "X_train, X_test, y_train, y_test = train_test_split(X, y, test_size=0.2, random_state=42)\n",
    "# # Impute missing values\n",
    "# imputer = SimpleImputer(strategy='median')\n",
    "# X_train = imputer.fit_transform(X_train)\n",
    "# X_test = imputer.transform(X_test)\n",
    "\n",
    "\n",
    "# # Scale the features\n",
    "scaler = StandardScaler()\n",
    "X_train = scaler.fit_transform(X_train)\n",
    "X_test = scaler.transform(X_test)\n",
    "\n",
    "# # Feature selection using SelectKBest with f_classif\n",
    "selector = SelectKBest(score_func=f_classif, k=50)  # Select top 100 features\n",
    "X_train = selector.fit_transform(X_train, y_train)\n",
    "X_test = selector.transform(X_test)\n",
    "\n",
    "\n",
    "# Display the number of features after feature selection\n",
    "print(f\"Total number of features after selection: {X_train.shape[1]}\")\n",
    "\n",
    "# Define the model\n",
    "model = Sequential([\n",
    "    Dense(64, activation='relu', input_shape=(X_train.shape[1],)),  # Increased from 64 to 256 units\n",
    "    Dropout(0.3),  # Increased dropout rate to handle more complex model\n",
    "    Dense(256, activation='relu'),  # Added an additional Dense layer\n",
    "    Dropout(0.2),  # Maintain dropout to prevent overfitting\n",
    "    Dense(64, activation='relu'),  # Further layer to increase model depth\n",
    "    Dropout(0.2),  # Consistent dropout rate for complexity\n",
    "    Dense(1, activation='sigmoid')  # Output layer for binary classification\n",
    "])\n",
    "# Compile the model\n",
    "model.compile(loss='binary_crossentropy',\n",
    "              optimizer='adam',\n",
    "              metrics=['accuracy'])\n",
    "\n",
    "# Train the model\n",
    "history = model.fit(X_train, y_train, epochs=40, batch_size=10, validation_split=0.2, verbose=1)"
   ]
  },
  {
   "cell_type": "code",
   "execution_count": 52,
   "metadata": {},
   "outputs": [
    {
     "name": "stdout",
     "output_type": "stream",
     "text": [
      "4/4 [==============================] - 0s 3ms/step - loss: 1.7868 - accuracy: 0.7521\n",
      "Test Loss, Test Accuracy: [1.786791205406189, 0.752136766910553]\n"
     ]
    }
   ],
   "source": [
    "# Evaluate the model on the test data\n",
    "results = model.evaluate(X_test, y_test)\n",
    "print(\"Test Loss, Test Accuracy:\", results)"
   ]
  }
 ],
 "metadata": {
  "kernelspec": {
   "display_name": "Python 3",
   "language": "python",
   "name": "python3"
  },
  "language_info": {
   "codemirror_mode": {
    "name": "ipython",
    "version": 3
   },
   "file_extension": ".py",
   "mimetype": "text/x-python",
   "name": "python",
   "nbconvert_exporter": "python",
   "pygments_lexer": "ipython3",
   "version": "3.11.5"
  }
 },
 "nbformat": 4,
 "nbformat_minor": 2
}
